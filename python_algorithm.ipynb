{
  "cells": [
    {
      "cell_type": "markdown",
      "metadata": {
        "id": "view-in-github",
        "colab_type": "text"
      },
      "source": [
        "<a href=\"https://colab.research.google.com/github/abdullaherensayin/-Yapay-Zeka-Space-Mission-from-1957-/blob/main/python_algorithm.ipynb\" target=\"_parent\"><img src=\"https://colab.research.google.com/assets/colab-badge.svg\" alt=\"Open In Colab\"/></a>"
      ]
    },
    {
      "cell_type": "code",
      "execution_count": null,
      "metadata": {
        "id": "8GFNCBJAopZo"
      },
      "outputs": [],
      "source": [
        "import numpy as np"
      ]
    },
    {
      "cell_type": "markdown",
      "metadata": {
        "id": "HgBipcofpAdZ"
      },
      "source": [
        "****1.Örnek: Kullanıcıdan isim alarak “Merhaba (kullanıcı ismi)” yazdıran python örneği****"
      ]
    },
    {
      "cell_type": "code",
      "execution_count": null,
      "metadata": {
        "colab": {
          "base_uri": "https://localhost:8080/"
        },
        "id": "oFqPT0m5o8Ef",
        "outputId": "e35d6ff9-b41b-48ab-fb5e-24ba119dcf06"
      },
      "outputs": [
        {
          "name": "stdout",
          "output_type": "stream",
          "text": [
            "lütfen isminizi giriniz:\tabdullah\n",
            "hoş geldin aga abdullah\n"
          ]
        }
      ],
      "source": [
        "isim = input(\"lütfen isminizi giriniz:\\t\")\n",
        "\n",
        "print(\"hoş geldin aga\", format(isim))"
      ]
    },
    {
      "cell_type": "markdown",
      "metadata": {
        "id": "rfzj0Mk2pSub"
      },
      "source": [
        "****2.Örnek: Girilen 2 sayıyı toplayan python örneği****"
      ]
    },
    {
      "cell_type": "code",
      "execution_count": null,
      "metadata": {
        "colab": {
          "base_uri": "https://localhost:8080/"
        },
        "id": "fNHTJmGspJwR",
        "outputId": "c3aa5681-8b04-48c7-e0ac-88e7d4a7b121"
      },
      "outputs": [
        {
          "name": "stdout",
          "output_type": "stream",
          "text": [
            "sayı1 giriniz:\t12\n",
            "sayı2 giriniz:\t45\n",
            "toplam\t 57\n"
          ]
        }
      ],
      "source": [
        "sayı1 = int(input(\"sayı1 giriniz:\\t\"))\n",
        "sayı2 = int(input(\"sayı2 giriniz:\\t\"))\n",
        "\n",
        "toplam = sayı1 + sayı2\n",
        "\n",
        "print(\"toplam\\t\", toplam)"
      ]
    },
    {
      "cell_type": "markdown",
      "metadata": {
        "id": "O2dxulB0poT-"
      },
      "source": [
        "****3.Örnek: Girilen 2 sayının ortalamasını bulan python örneği****"
      ]
    },
    {
      "cell_type": "code",
      "execution_count": null,
      "metadata": {
        "colab": {
          "base_uri": "https://localhost:8080/"
        },
        "id": "E97o5S1jpefL",
        "outputId": "a613f30b-34f1-453f-d005-916a586f2da9"
      },
      "outputs": [
        {
          "name": "stdout",
          "output_type": "stream",
          "text": [
            "Birinci saysıyı giriniz:\t47\n",
            "İkinci saysıyı giriniz:\t78\n",
            "bu iki sayının ortalama hesabı: 62.5\n"
          ]
        }
      ],
      "source": [
        "birinci_sayı = int(input(\"Birinci saysıyı giriniz:\\t\"))\n",
        "ikinci_sayı  = int(input(\"İkinci saysıyı giriniz:\\t\"))\n",
        "\n",
        "ortalama = (birinci_sayı + ikinci_sayı) / 2\n",
        "\n",
        "print(\"bu iki sayının ortalama hesabı:\",ortalama)"
      ]
    },
    {
      "cell_type": "markdown",
      "metadata": {
        "id": "-XN0aTWhqDwB"
      },
      "source": [
        "****4. Örnek: Girilen 3 sınav notunun ortalamasını bulan python örneği****"
      ]
    },
    {
      "cell_type": "code",
      "execution_count": null,
      "metadata": {
        "colab": {
          "base_uri": "https://localhost:8080/"
        },
        "id": "3h2bcUr5ptE8",
        "outputId": "c781d660-0c1f-4993-8b04-bccf5737433b"
      },
      "outputs": [
        {
          "name": "stdout",
          "output_type": "stream",
          "text": [
            "matematik ders notu:\t100\n",
            "fizik ders notu\t98\n",
            "geometri ders notu\t100\n",
            "99.33333333333333\n"
          ]
        }
      ],
      "source": [
        "matematik = int(input(\"matematik ders notu:\\t\"))\n",
        "fizik     = int(input(\"fizik ders notu\\t\"))\n",
        "geometri  = int(input(\"geometri ders notu\\t\"))\n",
        "\n",
        "\n",
        "ortalama = (matematik + fizik + geometri)/3\n",
        "print(\"bu derslerin ortalaması\", ortalama)"
      ]
    },
    {
      "cell_type": "markdown",
      "metadata": {
        "id": "BhvhT3kiuPtO"
      },
      "source": [
        "**5. Örnek: Yazılı ortalaması girilen öğrencinin sınıf geçme durumunu gösteren python örneği (0-50 arasında ise Kaldınız, 50-100 aralığında ise Geçtiniz, bu aralığa uymuyorsa Hatalı Değer)**"
      ]
    },
    {
      "cell_type": "code",
      "execution_count": null,
      "metadata": {
        "colab": {
          "base_uri": "https://localhost:8080/"
        },
        "id": "r7GSByQup700",
        "outputId": "5cd95ddc-43a0-4f05-b485-5a5d1986fcb5"
      },
      "outputs": [
        {
          "name": "stdout",
          "output_type": "stream",
          "text": [
            "ders ortalamasını giriniz:\t78\n",
            "bu dersten geçtiniz.\n"
          ]
        }
      ],
      "source": [
        "ortalama = int(input(\"ders ortalamasını giriniz:\\t\"))\n",
        "\n",
        "if ortalama < 50:\n",
        "  print(\"bu dersten kaldınız.\")\n",
        "\n",
        "elif ortalama <= 100:\n",
        "  print(\"bu dersten geçtiniz.\")\n",
        "\n",
        "else:\n",
        "  print(\"hatalı değer girdiniz.\")"
      ]
    },
    {
      "cell_type": "code",
      "execution_count": null,
      "metadata": {
        "id": "Shr3obH3t-Xi"
      },
      "outputs": [],
      "source": [
        "ortalama = float(input(\"ders ortlamasını giriniz: \"))\n",
        "\n",
        "if ortalama >= 0 and ortalama < 50:\n",
        "  print(\"bu dersten kaldınız efendi.\")\n",
        "\n",
        "elif ortalama >=50 and ortalama <= 100:\n",
        "  print(\"bu dersten geçtiniz helalo xoş olsun.\")\n",
        "\n",
        "else:\n",
        "  print(\"hatalı değer girdiniz.\")"
      ]
    },
    {
      "cell_type": "markdown",
      "metadata": {
        "id": "twTVDiUDzgyy"
      },
      "source": [
        "**6. Örnek: Girilen sayının tek mi çift mi olduğunu gösteren python örneği**"
      ]
    },
    {
      "cell_type": "code",
      "execution_count": null,
      "metadata": {
        "colab": {
          "base_uri": "https://localhost:8080/"
        },
        "id": "B4pfWBG5xuVk",
        "outputId": "b93f2c1f-8345-43c9-f143-ff37263eaa69"
      },
      "outputs": [
        {
          "name": "stdout",
          "output_type": "stream",
          "text": [
            "sayıyı giriniz: 4\n",
            "bu sayı çifttir.\n"
          ]
        }
      ],
      "source": [
        "# [pozitif tamsayılardan ----> pozitif tamsayılara]\n",
        "\n",
        "istenilen_sayı = int(input(\"sayıyı giriniz: \"))\n",
        "\n",
        "if istenilen_sayı % 2 == 1:\n",
        "  print(\"bu sayı tektir.\")\n",
        "\n",
        "elif istenilen_sayı < 0:\n",
        "  print(\"bu sayı negatiftir olmaz.\")\n",
        "  \n",
        "else:\n",
        "  print(\"bu sayı çifttir.\")"
      ]
    },
    {
      "cell_type": "markdown",
      "metadata": {
        "id": "dPHcOel12ooo"
      },
      "source": [
        "**7. Örnek: Girilen sayının pozitif, negatif, ya da 0 Olduğunu bulan python örneği**"
      ]
    },
    {
      "cell_type": "code",
      "execution_count": null,
      "metadata": {
        "colab": {
          "base_uri": "https://localhost:8080/"
        },
        "id": "4di_IDCW0cEH",
        "outputId": "55f721f8-9243-4c31-9ebc-c724d1d74aad"
      },
      "outputs": [
        {
          "name": "stdout",
          "output_type": "stream",
          "text": [
            "sayı giriniz: 1\n",
            "bu sayı pozitiftir.\n"
          ]
        }
      ],
      "source": [
        "sayı = int(input(\"sayı giriniz: \"))\n",
        "\n",
        "if sayı > 0:\n",
        "  print(\"bu sayı pozitiftir.\")\n",
        "  \n",
        "elif sayı < 0:\n",
        "  print(\"bu sayı negatiftir.\")\n",
        "\n",
        "else:\n",
        "  print(\"bu sayı sıfırdır.\")"
      ]
    },
    {
      "cell_type": "markdown",
      "metadata": {
        "id": "3LZH0Jjp6B2S"
      },
      "source": [
        "**8. Örnek: Yaşı girilen kullanıcının ehliyet alıp alamayacağını gösteren python örneği**"
      ]
    },
    {
      "cell_type": "code",
      "execution_count": null,
      "metadata": {
        "colab": {
          "base_uri": "https://localhost:8080/"
        },
        "id": "lKZp31A746_1",
        "outputId": "f135a094-4952-4ed1-d953-3525f8de7623"
      },
      "outputs": [
        {
          "name": "stdout",
          "output_type": "stream",
          "text": [
            "yaşınızı giriniz: 9\n",
            "ehliyet alamaz.\n"
          ]
        }
      ],
      "source": [
        "yaş = int(input(\"yaşınızı giriniz: \"))\n",
        "\n",
        "if yaş > 21:\n",
        "  print(\"ehliyet alabilir.\")\n",
        "\n",
        "else:\n",
        "  print(\"ehliyet alamaz.\")"
      ]
    },
    {
      "cell_type": "markdown",
      "metadata": {
        "id": "UnPb2Sif7AWw"
      },
      "source": [
        "**9. Örnek: 1-100 arasındaki sayıları ekranda listeleyen python örneği**"
      ]
    },
    {
      "cell_type": "code",
      "execution_count": null,
      "metadata": {
        "id": "SLuOh4EG64im"
      },
      "outputs": [],
      "source": [
        "# for i in range(1, 101):\n",
        "# print(i)"
      ]
    },
    {
      "cell_type": "markdown",
      "metadata": {
        "id": "mn9uYMP77sWE"
      },
      "source": [
        "**10. Örnek: 1-100 arasındaki çift sayıları listeleyen python örneği**"
      ]
    },
    {
      "cell_type": "code",
      "execution_count": null,
      "metadata": {
        "colab": {
          "base_uri": "https://localhost:8080/"
        },
        "id": "-B4EVr9h7ZHg",
        "outputId": "b254c322-2471-4a4e-d34a-b4de4fbd4b38"
      },
      "outputs": [
        {
          "name": "stdout",
          "output_type": "stream",
          "text": [
            "2\n",
            "4\n",
            "6\n",
            "8\n",
            "10\n",
            "12\n",
            "14\n",
            "16\n",
            "18\n",
            "20\n",
            "22\n",
            "24\n",
            "26\n",
            "28\n",
            "30\n",
            "32\n",
            "34\n",
            "36\n",
            "38\n",
            "40\n",
            "42\n",
            "44\n",
            "46\n",
            "48\n",
            "50\n",
            "52\n",
            "54\n",
            "56\n",
            "58\n",
            "60\n",
            "62\n",
            "64\n",
            "66\n",
            "68\n",
            "70\n",
            "72\n",
            "74\n",
            "76\n",
            "78\n",
            "80\n",
            "82\n",
            "84\n",
            "86\n",
            "88\n",
            "90\n",
            "92\n",
            "94\n",
            "96\n",
            "98\n",
            "100\n"
          ]
        }
      ],
      "source": [
        "for çift_sayı in range(1,101):\n",
        "  if çift_sayı % 2 == 0:\n",
        "    print(çift_sayı)"
      ]
    },
    {
      "cell_type": "markdown",
      "metadata": {
        "id": "NyTdPWTb9D6x"
      },
      "source": [
        "**11. Örnek: 1-100 arasındaki tek sayıları listeleyen python örneği**"
      ]
    },
    {
      "cell_type": "code",
      "execution_count": null,
      "metadata": {
        "colab": {
          "base_uri": "https://localhost:8080/"
        },
        "id": "N1pAU8OH8N7W",
        "outputId": "1200e013-052c-4ec2-d283-2c9fce427459"
      },
      "outputs": [
        {
          "name": "stdout",
          "output_type": "stream",
          "text": [
            "1\n",
            "3\n",
            "5\n",
            "7\n",
            "9\n",
            "11\n",
            "13\n",
            "15\n",
            "17\n",
            "19\n",
            "21\n",
            "23\n",
            "25\n",
            "27\n",
            "29\n",
            "31\n",
            "33\n",
            "35\n",
            "37\n",
            "39\n",
            "41\n",
            "43\n",
            "45\n",
            "47\n",
            "49\n",
            "51\n",
            "53\n",
            "55\n",
            "57\n",
            "59\n",
            "61\n",
            "63\n",
            "65\n",
            "67\n",
            "69\n",
            "71\n",
            "73\n",
            "75\n",
            "77\n",
            "79\n",
            "81\n",
            "83\n",
            "85\n",
            "87\n",
            "89\n",
            "91\n",
            "93\n",
            "95\n",
            "97\n",
            "99\n"
          ]
        }
      ],
      "source": [
        "for tek_sayılar in range(1,101):\n",
        "  if tek_sayılar % 2 == 1:\n",
        "    print(tek_sayılar)"
      ]
    },
    {
      "cell_type": "markdown",
      "metadata": {
        "id": "9weTdYHk9lOA"
      },
      "source": [
        "**12. Örnek: 1-100 arasındaki 5′e ve 7′ye tam bölünen sayıları bulan python örneği**"
      ]
    },
    {
      "cell_type": "code",
      "execution_count": null,
      "metadata": {
        "colab": {
          "base_uri": "https://localhost:8080/"
        },
        "id": "9OTqDfAs9eDL",
        "outputId": "0107584f-edb6-4624-f0b8-fa3b929ec586"
      },
      "outputs": [
        {
          "name": "stdout",
          "output_type": "stream",
          "text": [
            "5\n",
            "7\n",
            "10\n",
            "14\n",
            "15\n",
            "20\n",
            "21\n",
            "25\n",
            "28\n",
            "30\n",
            "35\n",
            "40\n",
            "42\n",
            "45\n",
            "49\n",
            "50\n",
            "55\n",
            "56\n",
            "60\n",
            "63\n",
            "65\n",
            "70\n",
            "75\n",
            "77\n",
            "80\n",
            "84\n",
            "85\n",
            "90\n",
            "91\n",
            "95\n",
            "98\n",
            "100\n"
          ]
        }
      ],
      "source": [
        "for sayı in range(1,101):\n",
        "  if sayı%5==0 or sayı%7==0:\n",
        "    print(sayı)"
      ]
    },
    {
      "cell_type": "markdown",
      "metadata": {
        "id": "LDeb9-yiBeqb"
      },
      "source": [
        "**13. Örnek: 1’den kullanıcının girdiği sayıya kadar olan sayıları listeleyen python örneği**"
      ]
    },
    {
      "cell_type": "code",
      "execution_count": null,
      "metadata": {
        "colab": {
          "base_uri": "https://localhost:8080/"
        },
        "id": "BWU1xpXdARPA",
        "outputId": "b02ea603-8a8e-4b7e-f739-0bbd9fdb6a05"
      },
      "outputs": [
        {
          "name": "stdout",
          "output_type": "stream",
          "text": [
            "Bir Sayı Girin : 5\n",
            "1\n",
            "2\n",
            "3\n",
            "4\n",
            "5\n"
          ]
        }
      ],
      "source": [
        "sayi=int(input(\"Bir Sayı Girin : \"))\n",
        "for i in range(1,sayi+1):\n",
        "        print(i)"
      ]
    },
    {
      "cell_type": "markdown",
      "metadata": {
        "id": "sn763rTAB8Na"
      },
      "source": [
        "**14. Örnek: Kenarları girilen dikdörtgenin alanını ve çevresini hesaplayan python örneği**"
      ]
    },
    {
      "cell_type": "code",
      "execution_count": null,
      "metadata": {
        "colab": {
          "base_uri": "https://localhost:8080/"
        },
        "id": "u5nSAfu2Bv_R",
        "outputId": "43d35a5c-bc77-4e38-f249-37567fb8d42b"
      },
      "outputs": [
        {
          "name": "stdout",
          "output_type": "stream",
          "text": [
            "uzun kenarı giriniz.\t45.5\n",
            "kısa kenarı giriniz.\t12.7\n",
            "dikdörtgenin çevresi 116.4\n"
          ]
        }
      ],
      "source": [
        "uzun_kenar = float(input(\"uzun kenarı giriniz.\\t\"))\n",
        "kısa_kenar = float(input(\"kısa kenarı giriniz.\\t\"))\n",
        "\n",
        "\n",
        "çevre = 2*(uzun_kenar + kısa_kenar)\n",
        "\n",
        "print(\"dikdörtgenin çevresi\", çevre)"
      ]
    },
    {
      "cell_type": "markdown",
      "metadata": {
        "id": "t1LIdnQaCYAy"
      },
      "source": [
        "**15. Örnek: Kullanıcın girdiği iki sayı arasındaki sayıların toplamını gösteren python örneği**"
      ]
    },
    {
      "cell_type": "code",
      "execution_count": null,
      "metadata": {
        "colab": {
          "base_uri": "https://localhost:8080/"
        },
        "id": "183wuoM7D4Xs",
        "outputId": "f72eedb8-0705-402f-ce6c-02ab7597d18c"
      },
      "outputs": [
        {
          "name": "stdout",
          "output_type": "stream",
          "text": [
            "sayı1 giriniz. 5\n",
            "sayı2 giriniz. 8\n",
            "5  ile  8 arasındaki sayıların toplamı:  13\n"
          ]
        }
      ],
      "source": [
        "toplam = 0;\n",
        "\n",
        "sayı1 = int(input(\"sayı1 giriniz. \"))\n",
        "sayı2 = int(input(\"sayı2 giriniz. \"))\n",
        "\n",
        "for i in range(sayı1+1, sayı2):\n",
        "  toplam+=i\n",
        "\n",
        "print(sayı1,\" ile \",sayı2, \"arasındaki sayıların toplamı: \",toplam)"
      ]
    },
    {
      "cell_type": "markdown",
      "metadata": {
        "id": "-O10c-QeG6H3"
      },
      "source": [
        "**16. Örnek: Kullanıcıdan (1-4) arasında sayı alınacak, bu sayıya göre sırasıyla ilkbahar-yaz-sonbahar-kış yazan python örneği\n",
        "**"
      ]
    },
    {
      "cell_type": "code",
      "execution_count": null,
      "metadata": {
        "colab": {
          "base_uri": "https://localhost:8080/"
        },
        "id": "35agTdo6Cxfn",
        "outputId": "345fcf6a-cc38-4f39-9ea2-d545166e17c9"
      },
      "outputs": [
        {
          "name": "stdout",
          "output_type": "stream",
          "text": [
            "mevsim numarasını giriniz. 9\n",
            "bu aralıkta mevsim yok.\n"
          ]
        }
      ],
      "source": [
        "mevsim = int(input(\"mevsim numarasını giriniz. \"))\n",
        "\n",
        "if mevsim == 1:\n",
        "  print(\"ilkbahar\")\n",
        "\n",
        "elif mevsim == 2:\n",
        "  print(\"yaz\")\n",
        "\n",
        "elif mevsim == 3:\n",
        "  print(\"sonbahar\")\n",
        "\n",
        "elif mevsim == 4:\n",
        "    print(\"kış\")\n",
        "\n",
        "else: print(\"bu aralıkta mevsim yok.\")"
      ]
    },
    {
      "cell_type": "markdown",
      "metadata": {
        "id": "aBzJ-wynJBRr"
      },
      "source": [
        "**17. Örnek: Kullanıcının girdiği metin ya da sayının palindrom olup olmadığını bulan Python programı**"
      ]
    },
    {
      "cell_type": "code",
      "execution_count": null,
      "metadata": {
        "colab": {
          "base_uri": "https://localhost:8080/"
        },
        "id": "ghBc5CBrIZFJ",
        "outputId": "6fd097b4-8726-4715-fdb8-cc9c589e7170"
      },
      "outputs": [
        {
          "name": "stdout",
          "output_type": "stream",
          "text": [
            "kelime giriniz: şiş\n",
            "girilen kelime =  şiş\n",
            "girilen kelime tersi =  şiş\n",
            "girilen kelime polidrom\n"
          ]
        }
      ],
      "source": [
        "kelime = input(\"kelime giriniz: \")\n",
        "\n",
        "tersi = kelime[::-1]\n",
        "\n",
        "print(\"girilen kelime = \", kelime)\n",
        "print(\"girilen kelime tersi = \", tersi)\n",
        "\n",
        "\n",
        "if tersi == kelime:\n",
        "  print(\"girilen kelime polidrom\")\n",
        "\n",
        "else:\n",
        "  print(\"girilen kelime polidrom değildir.\")"
      ]
    },
    {
      "cell_type": "markdown",
      "metadata": {
        "id": "fLP6opxfLqXK"
      },
      "source": [
        "**Fonksiyon kullanarak Python’da palindrom sayı veya metin bulmak**"
      ]
    },
    {
      "cell_type": "code",
      "execution_count": null,
      "metadata": {
        "colab": {
          "base_uri": "https://localhost:8080/"
        },
        "id": "U4h_teEHLQ67",
        "outputId": "f6511eae-be90-4c2c-c432-6b4f5209122b"
      },
      "outputs": [
        {
          "name": "stdout",
          "output_type": "stream",
          "text": [
            "kelime polidromdur.\n"
          ]
        }
      ],
      "source": [
        "def polidrom(kelime):\n",
        "  return kelime == kelime [::-1]\n",
        "\n",
        "kelime = \"kabak\"\n",
        "tersi = polidrom(kelime)\n",
        "\n",
        "if tersi:\n",
        "  print(\"kelime polidromdur.\")\n",
        "\n",
        "else:\n",
        "  print(\"kelime polidrom değildir.\")"
      ]
    },
    {
      "cell_type": "code",
      "execution_count": null,
      "metadata": {
        "colab": {
          "base_uri": "https://localhost:8080/"
        },
        "id": "Tytzij0vMaks",
        "outputId": "c186e7f7-183b-49a0-abc5-adb7f59584b9"
      },
      "outputs": [
        {
          "data": {
            "text/plain": [
              "True"
            ]
          },
          "execution_count": 15,
          "metadata": {},
          "output_type": "execute_result"
        }
      ],
      "source": [
        "polidrom(\"ses\")"
      ]
    },
    {
      "cell_type": "code",
      "execution_count": null,
      "metadata": {
        "colab": {
          "base_uri": "https://localhost:8080/"
        },
        "id": "VhCOXAX_MqS9",
        "outputId": "b905ffd6-d973-4690-a8a1-26be674f6474"
      },
      "outputs": [
        {
          "data": {
            "text/plain": [
              "False"
            ]
          },
          "execution_count": 16,
          "metadata": {},
          "output_type": "execute_result"
        }
      ],
      "source": [
        "polidrom(\"plo\")"
      ]
    },
    {
      "cell_type": "markdown",
      "metadata": {
        "id": "F8U8faxJM4hC"
      },
      "source": [
        "**18. Örnek: Kullanıcıdan bir metin girmesini isteyen ve girilen bu metinde bulunan sesli harflerin sayısını ekranda gösteren python örneği\n",
        "**"
      ]
    },
    {
      "cell_type": "code",
      "execution_count": null,
      "metadata": {
        "colab": {
          "base_uri": "https://localhost:8080/"
        },
        "id": "Wuz1GEeMMxWf",
        "outputId": "f9c03c6b-39fc-4f94-bf53-79f3c4b9855b"
      },
      "outputs": [
        {
          "name": "stdout",
          "output_type": "stream",
          "text": [
            "metin giriniz: abdullah\n",
            "abdullah  metnindeki sesli harf sayisi: 1\n",
            "abdullah  metnindeki sesli harf sayisi: 2\n",
            "abdullah  metnindeki sesli harf sayisi: 3\n"
          ]
        }
      ],
      "source": [
        "sesli_harfler = \"AEIİOÖUÜaeıioöuü\"\n",
        "\n",
        "sayaç = 0\n",
        "\n",
        "metin = input(\"metin giriniz: \")\n",
        "\n",
        "for harf in metin:\n",
        "  if harf in sesli_harfler:\n",
        "    sayaç+=1\n",
        "    print(metin,\" metnindeki sesli harf sayisi:\",sayaç)"
      ]
    },
    {
      "cell_type": "markdown",
      "metadata": {
        "id": "qRi22GfBnJFC"
      },
      "source": [
        "**19.Örnek: Kullanıcının girdiği sayının faktöriyelini hesaplayan python örneği\n",
        "**"
      ]
    },
    {
      "cell_type": "code",
      "execution_count": null,
      "metadata": {
        "colab": {
          "base_uri": "https://localhost:8080/"
        },
        "id": "Pb-LBjKFTQhW",
        "outputId": "2c2f1316-d22a-4241-dc74-d286187c35fe"
      },
      "outputs": [
        {
          "name": "stdout",
          "output_type": "stream",
          "text": [
            "faktöryelini hesapmak için sayı giriniz: 7\n",
            "7 sayısının faktöriyeli : 5040\n"
          ]
        }
      ],
      "source": [
        "sayı = int(input(\"faktöryelini hesapmak için sayı giriniz: \"))\n",
        "\n",
        "\n",
        "faktöryel = 1\n",
        "\n",
        "if sayı < 0:\n",
        "  print(\"negatif sayıların değeri hesaplanmaz.\")\n",
        "\n",
        "elif sayı == 0:\n",
        "  print(\"0! = 1\")\n",
        "\n",
        "else:\n",
        "  for i in range(1, sayı + 1):\n",
        "    faktöryel = faktöryel*i\n",
        "  print(sayı,\"sayısının faktöriyeli :\",faktöryel)\n"
      ]
    },
    {
      "cell_type": "code",
      "execution_count": null,
      "metadata": {
        "colab": {
          "base_uri": "https://localhost:8080/"
        },
        "id": "pRsvst4sork3",
        "outputId": "f2db5ad8-60f6-40af-e331-3e8f609a4269"
      },
      "outputs": [
        {
          "name": "stdout",
          "output_type": "stream",
          "text": [
            "birinci sayıyı giriniz: 12\n",
            "ikinci sayıyı giriniz: 14\n",
            "toplam:  26.0\n"
          ]
        }
      ],
      "source": [
        "sayı1 = float(input(\"birinci sayıyı giriniz: \"))\n",
        "sayı2 = float(input(\"ikinci sayıyı giriniz: \"))\n",
        "\n",
        "\n",
        "toplam = sayı1 + sayı2\n",
        "\n",
        "print(\"toplam: \", toplam )"
      ]
    },
    {
      "cell_type": "code",
      "execution_count": null,
      "metadata": {
        "colab": {
          "base_uri": "https://localhost:8080/"
        },
        "id": "-jsRFM2HNQ2l",
        "outputId": "79926348-7ec6-4f34-8993-85a2110c2207"
      },
      "outputs": [
        {
          "name": "stdout",
          "output_type": "stream",
          "text": [
            "sayı giriniz: 4\n",
            "sayı pozitiftir.\n"
          ]
        }
      ],
      "source": [
        "sayı = int(input(\"sayı giriniz: \"))\n",
        "\n",
        "if sayı<0:\n",
        "  print(\"sayı negetiftir.\")\n",
        "\n",
        "else: print(\"sayı pozitiftir.\")"
      ]
    },
    {
      "cell_type": "code",
      "execution_count": null,
      "metadata": {
        "colab": {
          "base_uri": "https://localhost:8080/"
        },
        "id": "_cUGNG_5TNdd",
        "outputId": "2cb78cfa-9729-48ec-9c3d-da1a891de72b"
      },
      "outputs": [
        {
          "name": "stdout",
          "output_type": "stream",
          "text": [
            "sayı giriniz: 4\n",
            "2\n",
            "4\n",
            "6\n",
            "8\n",
            "10\n"
          ]
        }
      ],
      "source": [
        "# Örnek 12:  1 den 20’ye kadar olan çift sayıları alt alta\n",
        "# yazdıran python kodunu yazınız.\n",
        "\n",
        "sayılar =int(input(\"sayı giriniz: \"))\n",
        "\n",
        "for sayı in range(1,11):\n",
        " if sayı%2==0:\n",
        "  print(sayı)"
      ]
    },
    {
      "cell_type": "code",
      "execution_count": null,
      "metadata": {
        "colab": {
          "base_uri": "https://localhost:8080/"
        },
        "id": "qec7fSfJIZrv",
        "outputId": "57367a3b-d8c5-4aa5-d27a-2d95b1746063"
      },
      "outputs": [
        {
          "name": "stdout",
          "output_type": "stream",
          "text": [
            "Taban giriniz: 12\n",
            "Yükselik giriniz: 6\n",
            "üçgenin alanı 36.0\n"
          ]
        }
      ],
      "source": [
        "taban = int(input(\"Taban giriniz: \"))\n",
        "yükseklik = int(input(\"Yükselik giriniz: \"))\n",
        "\n",
        "# üçgenin alanı = (taban x yükseklik)/2 \n",
        "\n",
        "üçgenin_alanı=(taban * yükseklik)/2\n",
        "\n",
        "print(\"üçgenin alanı\", üçgenin_alanı)"
      ]
    },
    {
      "cell_type": "markdown",
      "metadata": {
        "id": "He_R_St_5og9"
      },
      "source": [
        "**hesap makinası**"
      ]
    },
    {
      "cell_type": "code",
      "execution_count": null,
      "metadata": {
        "colab": {
          "base_uri": "https://localhost:8080/"
        },
        "id": "hEKCva8H3ZLf",
        "outputId": "c8025e7c-b61d-47aa-d23e-8e8453a9b0c7"
      },
      "outputs": [
        {
          "name": "stdout",
          "output_type": "stream",
          "text": [
            "sayı giriniz:\t41\n",
            "sayı giriniz:\t7\n",
            "Toplam işleminin sonucu:  48.0\n",
            "Çıkartma işleminin sonucu:  34.0\n",
            "Çarpma işleminin sonucu:  287.0\n",
            "Bölme işleminin sonucu:  5.857142857142857\n",
            "İşleminin sonucu:  194754273881.0\n"
          ]
        }
      ],
      "source": [
        "sayı1 = float(input(\"sayı giriniz:\\t\"))\n",
        "sayı2 = float(input(\"sayı giriniz:\\t\"))\n",
        "\n",
        "# toplama işlemi için;\n",
        "\n",
        "Toplam = sayı1 + sayı2\n",
        "\n",
        "print(\"Toplam işleminin sonucu: \", Toplam)\n",
        "\n",
        "# çıkartma işlemi için;\n",
        "\n",
        "Çıkartma = sayı1 - sayı2\n",
        "\n",
        "print(\"Çıkartma işleminin sonucu: \", Çıkartma)\n",
        "\n",
        "# çarpma işleminin için;\n",
        "\n",
        "Çarpma = sayı1 * sayı2\n",
        "\n",
        "print(\"Çarpma işleminin sonucu: \", Çarpma)\n",
        "\n",
        "# bölme işleminin sonucu için;\n",
        "\n",
        "Bölme = sayı1 / sayı2\n",
        "\n",
        "print(\"Bölme işleminin sonucu: \", Bölme)\n",
        "\n",
        "# üs alma için;\n",
        "\n",
        "kuvvet = sayı1 ** sayı2\n",
        "\n",
        "print(\"İşleminin sonucu: \", kuvvet)"
      ]
    },
    {
      "cell_type": "code",
      "execution_count": null,
      "metadata": {
        "colab": {
          "base_uri": "https://localhost:8080/"
        },
        "id": "FFOU60779Nsn",
        "outputId": "ba1e9f7d-bae9-46bf-dcf5-688557c91ef4"
      },
      "outputs": [
        {
          "name": "stdout",
          "output_type": "stream",
          "text": [
            "\n",
            "hesap makinesi için\n",
            "\n",
            "> toplama işlemi için 1'e basın,\n",
            "> çıkartma işlemi için 2'e basın,\n",
            "> çarpma işlemi için 3'e basın,\n",
            "> bölme işlemi için 4'e basın.\n",
            "\n",
            "işlem için sayı seçiniz: 4\n",
            "sayı giriniz:77\n",
            "sayı giriniz:6\n",
            "işlemin sonucu: 12.833333333333334\n"
          ]
        }
      ],
      "source": [
        "print(\"\"\"\n",
        "hesap makinesi için\n",
        "\n",
        "> toplama işlemi için 1'e basın,\n",
        "> çıkartma işlemi için 2'e basın,\n",
        "> çarpma işlemi için 3'e basın,\n",
        "> bölme işlemi için 4'e basın.\n",
        "\"\"\")\n",
        "\n",
        "işlem = str(input(\"işlem için sayı seçiniz: \"))\n",
        "\n",
        "if işlem == \"1\":\n",
        "  sayı1 = int(input(\"sayı giriniz:\"))\n",
        "  sayı2 = int(input(\"sayı giriniz:\"))\n",
        "  print(\"işlemin sonucu:\", sayı1 + sayı2)\n",
        "\n",
        "elif işlem == \"2\":\n",
        "  sayı1 = int(input(\"sayı giriniz:\"))\n",
        "  sayı2 = int(input(\"sayı giriniz:\"))\n",
        "  print(\"işlemin sonucu:\", sayı1 - sayı2)\n",
        "\n",
        "elif işlem == \"3\":\n",
        "    sayı1 = int(input(\"sayı giriniz:\"))\n",
        "    sayı2 = int(input(\"sayı giriniz:\"))\n",
        "    print(\"işlemin sonucu:\", sayı1 * sayı2)\n",
        "\n",
        "elif işlem == \"4\":\n",
        "    sayı1 = int(input(\"sayı giriniz:\"))\n",
        "    sayı2 = int(input(\"sayı giriniz:\"))\n",
        "    print(\"işlemin sonucu:\", sayı1 / sayı2)\n",
        "\n",
        "else:\n",
        "  print(\"Geçersiz işlem girdiniz.\")"
      ]
    },
    {
      "cell_type": "markdown",
      "metadata": {
        "id": "j81rHNDAEp88"
      },
      "source": [
        "**Bakkal listenizdeki ürünleri bir arkadaşınıza satın alma niyetinizi açıklamak istediğinizi hayal edin. “Bakkal listemdeki her ürün için bu ürünü satın almak istiyorum” gibi bir şey söyleyebilirsiniz. Python listemizin içeriğine göre bazı biçimlendirilmiş dizeleri yazdıralım!**"
      ]
    },
    {
      "cell_type": "code",
      "execution_count": null,
      "metadata": {
        "colab": {
          "base_uri": "https://localhost:8080/"
        },
        "id": "CSD1G0VN9zfn",
        "outputId": "7714a5ea-ef5a-4841-a901-a82e40ae8790"
      },
      "outputs": [
        {
          "name": "stdout",
          "output_type": "stream",
          "text": [
            "makarna satın almak istiyorum.\n",
            "soda satın almak istiyorum.\n",
            "reçel satın almak istiyorum.\n"
          ]
        }
      ],
      "source": [
        "my_list = [\"makarna\", \"soda\", \"reçel\"]\n",
        "\n",
        "for urun in my_list:\n",
        "  print(f\"{urun} satın almak istiyorum.\")"
      ]
    },
    {
      "cell_type": "code",
      "execution_count": null,
      "metadata": {
        "colab": {
          "base_uri": "https://localhost:8080/"
        },
        "id": "se4ZW16JFNmB",
        "outputId": "287087c0-ed7b-450e-9a11-966fea5a5cef"
      },
      "outputs": [
        {
          "name": "stdout",
          "output_type": "stream",
          "text": [
            "makarna satın almak istiyorum.\n",
            "soda satın almak istiyorum.\n",
            "reçel satın almak istiyorum.\n"
          ]
        }
      ],
      "source": [
        "my_list = [\"makarna\", \"soda\", \"reçel\"]\n",
        "\n",
        "for urun in my_list:\n",
        "  print(urun, \"satın almak istiyorum.\")"
      ]
    },
    {
      "cell_type": "code",
      "execution_count": null,
      "metadata": {
        "colab": {
          "base_uri": "https://localhost:8080/"
        },
        "id": "q5WJh3G-XV8_",
        "outputId": "db78ecf5-2deb-4d42-901c-7dc4d910ee05"
      },
      "outputs": [
        {
          "name": "stdout",
          "output_type": "stream",
          "text": [
            "makarna, satın almak istiyorum\n",
            "soda, satın almak istiyorum\n",
            "reçel, satın almak istiyorum\n"
          ]
        }
      ],
      "source": [
        "my_list = [\"makarna\",\"soda\", \"reçel\"]\n",
        "\n",
        "for urun in range(len(my_list)):\n",
        "  print(f\"{my_list[urun]}, satın almak istiyorum\")"
      ]
    },
    {
      "cell_type": "code",
      "execution_count": null,
      "metadata": {
        "colab": {
          "base_uri": "https://localhost:8080/"
        },
        "id": "Bq2O2hVxYRxh",
        "outputId": "6bae3122-ff2a-427a-9d7e-d7e8bfc11cd6"
      },
      "outputs": [
        {
          "name": "stdout",
          "output_type": "stream",
          "text": [
            "yarı çap giriniz:6\n",
            "yükseklik giriniz:6\n",
            "silindirin hacmi (648+0j)\n"
          ]
        }
      ],
      "source": [
        "# silindirin hacmi hesaplayalım\n",
        "\n",
        "r = i(input(\"yarı çap giriniz:\"))\n",
        "yükseklik = int(input(\"yükseklik giriniz:\"))\n",
        "\n",
        "# hacim = pi x r² x yükseklik\n",
        "\n",
        "pi = 3\n",
        "\n",
        "hacim = ((pi) * (r*r) * (yükseklik))\n",
        "\n",
        "print(\"silindirin hacmi\", hacim)"
      ]
    },
    {
      "cell_type": "code",
      "execution_count": null,
      "metadata": {
        "colab": {
          "base_uri": "https://localhost:8080/"
        },
        "id": "2mEwJdtELSxE",
        "outputId": "e1586070-5739-44bf-f527-e3a5938c2e19"
      },
      "outputs": [
        {
          "name": "stdout",
          "output_type": "stream",
          "text": [
            "pi giriniz. 3\n",
            "yarı çap giriniz.7\n",
            "dairenin alanı cm²:  147.0\n"
          ]
        }
      ],
      "source": [
        "# dairenin alanı hesaplayan\n",
        "# bir kod giriniz.\n",
        "\n",
        "pi = float(input(\"pi giriniz. \"))\n",
        "\n",
        "r = float(input(\"yarı çap giriniz.\"))\n",
        "\n",
        "# dairenin alan formülü\n",
        "alan = pi * (r*r)\n",
        "\n",
        "print(\"dairenin alanı cm²: \", alan)"
      ]
    },
    {
      "cell_type": "code",
      "execution_count": null,
      "metadata": {
        "id": "Ftq2reACUIS5"
      },
      "outputs": [],
      "source": [
        "# vücut kitle endeksi hesaplama...\n",
        "# (VKİ)\n",
        "\n",
        "kg  = float(input(\"kilonuzu giriniz.\"))\n",
        "boy = float(input(\"boyunuzu giriniz.\"))\n",
        "\n",
        "hesap = kg/(boy*boy)\n",
        "\n",
        "if hesap <= 20.5:\n",
        " print(\"aşırı zayıf\", hesap)\n",
        "\n",
        "elif hesap >=20.5 and hesap <=24.9:\n",
        " print(\"normal düzeyde\", hesap)\n",
        "\n",
        "elif hesap >=24.9 and hesap <= 30:\n",
        " print(\"hafif obez\", hesap)\n",
        "\n",
        "else:\n",
        " print(\"obez\" , hesap)"
      ]
    },
    {
      "cell_type": "code",
      "execution_count": null,
      "metadata": {
        "colab": {
          "background_save": true
        },
        "id": "KuEvp_-wnt5r",
        "outputId": "08b20129-8747-4da2-bca9-b68ac3dbd7d1"
      },
      "outputs": [
        {
          "name": "stdout",
          "output_type": "stream",
          "text": [
            "[5, 7, 9, 11, 13, 15]\n"
          ]
        }
      ],
      "source": [
        "# 5 ile 15 (15 dâhil) arasındaki tek sayıları\n",
        "# bir listeye alınız\n",
        "# 6 ile 16 (16 dâhil) arasındaki\n",
        "# çift sayıları da\n",
        "# başka bir listeye…\n",
        "\n",
        "tek_sayılar = []\n",
        "for sayı in range(5,16,2):\n",
        " tek_sayılar.append(sayı)\n",
        "print(tek_sayılar)"
      ]
    },
    {
      "cell_type": "code",
      "source": [
        "tek_sayılar = []\n",
        "\n",
        "for sayı in range(5,16):\n",
        " if sayı%2==1:\n",
        "  print(sayı)"
      ],
      "metadata": {
        "colab": {
          "base_uri": "https://localhost:8080/"
        },
        "id": "ylHsTokPqhph",
        "outputId": "42c06905-676e-4ccf-e761-4606041b073f"
      },
      "execution_count": null,
      "outputs": [
        {
          "output_type": "stream",
          "name": "stdout",
          "text": [
            "5\n",
            "7\n",
            "9\n",
            "11\n",
            "13\n",
            "15\n"
          ]
        }
      ]
    },
    {
      "cell_type": "code",
      "source": [
        "tek_sayılar = []\n",
        "for sayı in range(5,16,2):\n",
        " tek_sayılar.append(sayı)\n",
        "\n",
        "\n",
        "\n",
        "çift_sayılar = []\n",
        "for sayı in range(4,17,2):\n",
        " çift_sayılar.append(sayı)\n",
        "\n",
        "tek_sayılar.append(çift_sayılar)\n",
        "print(tek_sayılar)"
      ],
      "metadata": {
        "colab": {
          "base_uri": "https://localhost:8080/"
        },
        "id": "dXFXJdakuRMT",
        "outputId": "a106b802-5a88-4b0a-8376-42b20e4efcbf"
      },
      "execution_count": null,
      "outputs": [
        {
          "output_type": "stream",
          "name": "stdout",
          "text": [
            "[5, 7, 9, 11, 13, 15, [4, 6, 8, 10, 12, 14, 16]]\n"
          ]
        }
      ]
    },
    {
      "cell_type": "code",
      "source": [
        "len(tek_sayılar)"
      ],
      "metadata": {
        "colab": {
          "base_uri": "https://localhost:8080/"
        },
        "id": "CqQ2B5wWwO8j",
        "outputId": "984672c2-57ef-43f4-e57d-5cc3dee79b07"
      },
      "execution_count": null,
      "outputs": [
        {
          "output_type": "execute_result",
          "data": {
            "text/plain": [
              "7"
            ]
          },
          "metadata": {},
          "execution_count": 15
        }
      ]
    },
    {
      "cell_type": "code",
      "source": [
        "tek_sayılar[3]"
      ],
      "metadata": {
        "colab": {
          "base_uri": "https://localhost:8080/"
        },
        "id": "o3CwlRTlwaCE",
        "outputId": "9825adab-6613-4fef-e4aa-5f7034766e9c"
      },
      "execution_count": null,
      "outputs": [
        {
          "output_type": "execute_result",
          "data": {
            "text/plain": [
              "11"
            ]
          },
          "metadata": {},
          "execution_count": 16
        }
      ]
    },
    {
      "cell_type": "code",
      "source": [
        "tek_sayılar[6]"
      ],
      "metadata": {
        "colab": {
          "base_uri": "https://localhost:8080/"
        },
        "id": "4xFWCbAFwh9t",
        "outputId": "8e61c405-ae76-4e38-f166-5b6dffa21490"
      },
      "execution_count": null,
      "outputs": [
        {
          "output_type": "execute_result",
          "data": {
            "text/plain": [
              "[4, 6, 8, 10, 12, 14, 16]"
            ]
          },
          "metadata": {},
          "execution_count": 18
        }
      ]
    },
    {
      "cell_type": "code",
      "source": [
        "num1=11\n",
        "num2=8.7\n",
        "\n",
        "# iki sayının toplamı\n",
        "\n",
        "toplam = int(num1) + float(num2)\n",
        "print(\"Toplam\", toplam)"
      ],
      "metadata": {
        "colab": {
          "base_uri": "https://localhost:8080/"
        },
        "id": "GbJlz6oRxcHP",
        "outputId": "29280702-c362-4022-b925-d6dd167464a6"
      },
      "execution_count": null,
      "outputs": [
        {
          "output_type": "stream",
          "name": "stdout",
          "text": [
            "Toplam 19.7\n"
          ]
        }
      ]
    },
    {
      "cell_type": "code",
      "source": [
        "def find_max(nums):\n",
        "2 max_num = float(\"-inf\")"
      ],
      "metadata": {
        "id": "_loY27Rpq9Fa"
      },
      "execution_count": null,
      "outputs": []
    },
    {
      "cell_type": "code",
      "source": [
        "def find_max(nums):\n",
        " max_num = float(\"-inf\")\n",
        "for num in nums:\n",
        " if num > max_num:\n",
        "  return max_num"
      ],
      "metadata": {
        "colab": {
          "base_uri": "https://localhost:8080/",
          "height": 166
        },
        "id": "HsJtIW0zrxgE",
        "outputId": "3aae79e9-f877-415e-d49a-79a932ddf2bf"
      },
      "execution_count": null,
      "outputs": [
        {
          "output_type": "error",
          "ename": "SyntaxError",
          "evalue": "ignored",
          "traceback": [
            "\u001b[0;36m  File \u001b[0;32m\"<ipython-input-11-98b3db4fc1a7>\"\u001b[0;36m, line \u001b[0;32m5\u001b[0m\n\u001b[0;31m    return max_num\u001b[0m\n\u001b[0m    ^\u001b[0m\n\u001b[0;31mSyntaxError\u001b[0m\u001b[0;31m:\u001b[0m 'return' outside function\n"
          ]
        }
      ]
    }
  ],
  "metadata": {
    "colab": {
      "provenance": [],
      "authorship_tag": "ABX9TyMwzHvBCiinZDqvy47DcS2a",
      "include_colab_link": true
    },
    "kernelspec": {
      "display_name": "Python 3",
      "name": "python3"
    },
    "language_info": {
      "name": "python"
    }
  },
  "nbformat": 4,
  "nbformat_minor": 0
}